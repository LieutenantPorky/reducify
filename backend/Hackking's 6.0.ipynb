{
 "cells": [
  {
   "cell_type": "markdown",
   "metadata": {},
   "source": [
    "Liste med ingredienser \n",
    "\n",
    "Oppskrifter\n",
    "\n",
    "Hvor nært er du å kunne lage noe? \n",
    "\n",
    "- Hvor viktige er hver ingrediens? \n",
    "- Hvor viktig er det å bruke X fra kjøleskapet? \n",
    "- Når viktige ingredienser er i ferd med å gå ut på dato (foreslå alternativer: typ, kan det fryses?)\n",
    "\n",
    "\n",
    "pseudokode: \n",
    "- liste med ingredienser\n",
    "- oppskrift class? (inkluder ingredienser) \n",
    "- Legg til ingredienser\n",
    "- Fjern ingredienser\n"
   ]
  },
  {
   "cell_type": "code",
   "execution_count": 1,
   "metadata": {
    "collapsed": true
   },
   "outputs": [],
   "source": [
    "import matplotlib.image as mpimg\n",
    "import numpy as np\n",
    "from numpy import array\n",
    "import matplotlib.pyplot as plt\n",
    "\n",
    "%matplotlib inline"
   ]
  },
  {
   "cell_type": "code",
   "execution_count": 3,
   "metadata": {},
   "outputs": [
    {
     "name": "stdout",
     "output_type": "stream",
     "text": [
      "bakery\n",
      "ans grain bread\n",
      "\n",
      "deli\n",
      "~ nd honey cured ham\n",
      "toi turkey\n",
      "\n",
      "grocery\n",
      "pk actvia st/bl\n",
      "egglnd lg wht egg\n",
      "\n",
      "meat\n",
      "\"ang top rd lnd brl\n",
      "\n",
      "“tore apples\n",
      "0 ib @ 0,99/ ib\n",
      "bananas\n",
      "2.18 ib @ 0.39/ tb\n",
      "green cucumbers\n",
      "@ 2 for 1.00\n",
      "bulk garlic\n",
      "red tomatoes on vine\n",
      "1,33 1b @ 1.59/ ib\n",
      "yellow onions\n",
      "0.37 ib @ 1.49/ 1b\n",
      "yellow onions\n",
      "1.26 lb @ 1.49/ tb\n",
      "green bell peppers\n",
      "0.63 ib @ 1.49/ ib\n",
      "seafood\n",
      "__fresh [ilapia fillet\n",
      "total tax\n",
      "\n",
      "16 balance que\n",
      "\n",
      "debit card\n",
      "\n",
      "ay 8\n",
      "43.86\n",
      "\n",
      "oe\n",
      "\n",
      "**\n",
      "\n",
      "x *\n",
      "\n",
      "ee\n",
      "\n",
      "*\n"
     ]
    }
   ],
   "source": [
    "import cv2\n",
    "import pytesseract\n",
    "from PIL import Image\n",
    "\n",
    "path=\"test_receipt.jpg\"\n",
    "\n",
    "# Open the image\n",
    "image = cv2.imread(path)\n",
    "gray = cv2.cvtColor(image, cv2.COLOR_BGR2GRAY)\n",
    "\n",
    "#do some preprocessing\n",
    "gray = cv2.threshold(gray, 0, 255, cv2.THRESH_BINARY | cv2.THRESH_OTSU)[1]\n",
    "gray = cv2.medianBlur(gray, 3)\n",
    "\n",
    "pil_img = Image.fromarray(gray)\n",
    "\n",
    "#print(pytesseract.image_to_string(pil_img))\n",
    "newString = pytesseract.image_to_string(Image.open(\"test_receipt.jpg\"))\n",
    "realNew = newString.lower()\n",
    "print(realNew)"
   ]
  },
  {
   "cell_type": "code",
   "execution_count": 14,
   "metadata": {},
   "outputs": [
    {
     "name": "stdout",
     "output_type": "stream",
     "text": [
      "['bananas', 'bread', 'cucumbers', 'egg', 'garlic', 'onions', 'tomatoes', 'onions']\n"
     ]
    }
   ],
   "source": [
    "from receipt_parse import filter\n",
    "\n",
    "import re\n",
    "\n",
    "wordList = re.sub (\"[^\\w]\",\" \",realNew).split()\n",
    "\n",
    "if __name__ == \"__main__\":\n",
    "    input = allIngredients #allIngredients refers to the database containing all ingredients that are used in recipes\n",
    "    ingredients = [i for i in [filter(i,wordList,70) for i in input] if i] #ingredients in fridge\n",
    "    print(ingredients)"
   ]
  },
  {
   "cell_type": "code",
   "execution_count": 25,
   "metadata": {
    "collapsed": true
   },
   "outputs": [],
   "source": [
    "\n",
    "# Ingredients that can expire, and that are commonly wasted in the UK\n",
    "allIngredients = [\"avocado\", \"bacon\", \"bananas\", \"bread\", \"butter\", \"cauliflower\", \"chicken\", \"cucumber\", \"eggs\", \"feta cheese\", \"frosen peas\", \"garlic\", \"kale\", \"milk\", \"onions\", \"pommegranate\", \"potatoes\", \"red onions\", \"salad\"]\n",
    "\n",
    "#ingredients = [\"potatoes\", \"onions\", \"garlic\", \"butter\", \"milk\", \"bananas\"]\n",
    "\n",
    "#ingredients.append(\"eggs\")\n",
    "\n",
    "# Oppskrifter: 5-10 oppskrifter som dekker de mest kastede ingrediensene i UK \n",
    "# Ingredients that don't expire: salt, pepper, oil, stock cubes, flour, baking powder \n",
    "\n",
    "potatoTortilla = [\"potatoes\", \"eggs\", \"onions\"] #salt, pepper \n",
    "\n",
    "breadSoup = [\"bread\", \"onions\",\"frozen peas\"] #salt, pepper, stock cube, oil\n",
    "\n",
    "cauliflowerSoup = [\"onions\", \"garlic\", \"cauliflower\", \"kale\", \"bacon\", \"milk\"] #stock cube, salt, pepper, oil\n",
    "\n",
    "chickenSalad = [\"chicken\", \"salad\", \"red onions\", \"cucumber\", \"pommegranate\", \"salad\", \"avocado\", \"feta cheese\"] # salt, pepper, oil/butter\n",
    "\n",
    "bananaPancakes = [\"milk\", \"butter\", \"eggs\", \"bananas\"] # flour, baking powder, salt\n",
    "\n",
    "frenchToast = [\"bread\", \"eggs\", \"milk\"] # oil, sugar, salt\n",
    "\n",
    "breadPizza = [\"bread\", \"tomatoes\", \"cheese\"] # pepper, herbs\n",
    "\n",
    "\n",
    "# [recipe, name of recipe, time, dietaryRestrictions]\n",
    "recipes = [[bananaPancakes, \"Banana Pancakes\", 15, \"Ve\"], [breadSoup, \"Bread Soup\", 30, \"V\"],[cauliflowerSoup, \"Cauliflower Soup\", 30, \"G\"] , [chickenSalad, \"Chicken Salad\", 15, \"G\"], [frenchToast, \"French Toast\", 10, \"Ve\"], [potatoTortilla, \"Potato Tortilla\", 30, \"Ve\"], [breadPizza,\"Bread Pizza\", 15, \"Ve\" ]]\n",
    "\n"
   ]
  },
  {
   "cell_type": "code",
   "execution_count": 16,
   "metadata": {},
   "outputs": [
    {
     "ename": "TypeError",
     "evalue": "'list' object is not callable",
     "output_type": "error",
     "traceback": [
      "\u001b[0;31m---------------------------------------------------------------------------\u001b[0m",
      "\u001b[0;31mTypeError\u001b[0m                                 Traceback (most recent call last)",
      "\u001b[0;32m<ipython-input-16-04800bb5c935>\u001b[0m in \u001b[0;36m<module>\u001b[0;34m()\u001b[0m\n\u001b[1;32m      1\u001b[0m \u001b[0;31m# Nødvendige input: dietary restrictions, ingredienser i kjøleskapet, maksimum tid\u001b[0m\u001b[0;34m\u001b[0m\u001b[0;34m\u001b[0m\u001b[0m\n\u001b[1;32m      2\u001b[0m \u001b[0;34m\u001b[0m\u001b[0m\n\u001b[0;32m----> 3\u001b[0;31m \u001b[0mingredientInput\u001b[0m \u001b[0;34m=\u001b[0m \u001b[0minput\u001b[0m\u001b[0;34m(\u001b[0m\u001b[0;34m\"Do you have any new ingredients in your fridge? (yes/no) \"\u001b[0m\u001b[0;34m)\u001b[0m\u001b[0;34m\u001b[0m\u001b[0m\n\u001b[0m\u001b[1;32m      4\u001b[0m \u001b[0;34m\u001b[0m\u001b[0m\n\u001b[1;32m      5\u001b[0m \u001b[0;32mwhile\u001b[0m \u001b[0mingredientInput\u001b[0m \u001b[0;34m!=\u001b[0m \u001b[0;34m\"no\"\u001b[0m\u001b[0;34m:\u001b[0m\u001b[0;34m\u001b[0m\u001b[0m\n",
      "\u001b[0;31mTypeError\u001b[0m: 'list' object is not callable"
     ]
    }
   ],
   "source": [
    "# Nødvendige input: dietary restrictions, ingredienser i kjøleskapet, maksimum tid\n",
    "\n",
    "ingredientInput = input(\"Do you have any new ingredients in your fridge? (yes/no) \")\n",
    "\n",
    "while ingredientInput != \"no\":\n",
    "    if ingredientInput == \"yes\":\n",
    "        newIngredient = input(\"What do you have in your fridge? \")\n",
    "\n",
    "    if newIngredient == \"no\":\n",
    "        break\n",
    "        \n",
    "    if newIngredient not in ingredients:\n",
    "        ingredients.append(newIngredient)\n",
    "\n",
    "print(ingredients)\n",
    "\n",
    "dietaryInput = input(\"Any dietary restrictions? (V/Ve/G/D/no) \")\n",
    "maximumTime = input(\"How much time do you have? (in minutes) \")\n"
   ]
  },
  {
   "cell_type": "code",
   "execution_count": 21,
   "metadata": {},
   "outputs": [
    {
     "name": "stdout",
     "output_type": "stream",
     "text": [
      "That means you can make:\n",
      "Banana Pancakes\n",
      "Potato Tortilla\n"
     ]
    }
   ],
   "source": [
    "print(\"That means you can make:\")\n",
    "for i in range(len(recipes)):\n",
    "    \n",
    "    currentRecipe = recipes[i][0]\n",
    "    \n",
    "    for x in range(len(currentRecipe)):\n",
    "        if currentRecipe[x] not in ingredients:\n",
    "            break\n",
    "    else:\n",
    "        print(recipes[i][1])\n"
   ]
  },
  {
   "cell_type": "code",
   "execution_count": 89,
   "metadata": {},
   "outputs": [
    {
     "ename": "IndexError",
     "evalue": "list index out of range",
     "output_type": "error",
     "traceback": [
      "\u001b[0;31m---------------------------------------------------------------------------\u001b[0m",
      "\u001b[0;31mIndexError\u001b[0m                                Traceback (most recent call last)",
      "\u001b[0;32m<ipython-input-89-78b05df71e99>\u001b[0m in \u001b[0;36m<module>\u001b[0;34m()\u001b[0m\n\u001b[1;32m      3\u001b[0m \u001b[0;34m\u001b[0m\u001b[0m\n\u001b[1;32m      4\u001b[0m     \u001b[0;32mfor\u001b[0m \u001b[0mx\u001b[0m \u001b[0;32min\u001b[0m \u001b[0mrange\u001b[0m\u001b[0;34m(\u001b[0m\u001b[0mlen\u001b[0m\u001b[0;34m(\u001b[0m\u001b[0mrecipes\u001b[0m\u001b[0;34m)\u001b[0m\u001b[0;34m)\u001b[0m\u001b[0;34m:\u001b[0m\u001b[0;34m\u001b[0m\u001b[0m\n\u001b[0;32m----> 5\u001b[0;31m         \u001b[0mcurrentRecipe\u001b[0m \u001b[0;34m=\u001b[0m \u001b[0mrecipes\u001b[0m\u001b[0;34m[\u001b[0m\u001b[0mx\u001b[0m\u001b[0;34m]\u001b[0m\u001b[0;34m[\u001b[0m\u001b[0;36m0\u001b[0m\u001b[0;34m]\u001b[0m\u001b[0;34m\u001b[0m\u001b[0m\n\u001b[0m\u001b[1;32m      6\u001b[0m \u001b[0;34m\u001b[0m\u001b[0m\n\u001b[1;32m      7\u001b[0m         \u001b[0;32mif\u001b[0m \u001b[0mrecipes\u001b[0m\u001b[0;34m[\u001b[0m\u001b[0mx\u001b[0m\u001b[0;34m]\u001b[0m\u001b[0;34m[\u001b[0m\u001b[0;36m3\u001b[0m\u001b[0;34m]\u001b[0m \u001b[0;34m!=\u001b[0m \u001b[0mdietaryInput\u001b[0m\u001b[0;34m:\u001b[0m\u001b[0;34m\u001b[0m\u001b[0m\n",
      "\u001b[0;31mIndexError\u001b[0m: list index out of range"
     ]
    }
   ],
   "source": [
    "### Nvm\n",
    "if dietaryInput != \"no\":\n",
    "    \n",
    "    for x in range(len(recipes)):\n",
    "        currentRecipe = recipes[x][0]\n",
    "        \n",
    "        if recipes[x][3] != dietaryInput:\n",
    "            recipes.remove(recipes[x])\n",
    "            \n",
    "    print(recipes)   \n",
    "            \n",
    "            \n",
    "            \n",
    "                 "
   ]
  },
  {
   "cell_type": "code",
   "execution_count": 49,
   "metadata": {},
   "outputs": [
    {
     "name": "stdout",
     "output_type": "stream",
     "text": [
      "That means you can make:\n",
      "Banana Pancakes\n",
      "Bread Soup\n",
      "Cauliflower Soup\n",
      "Chicken Salad\n",
      "French Toast\n",
      "Potato Tortilla\n",
      "Bread Pizza\n"
     ]
    }
   ],
   "source": [
    "### Nvm\n",
    "dietaryInput = \"no\"            \n",
    "print(\"That means you can make:\")\n",
    "for i in range(len(recipes)):\n",
    "    \n",
    "    currentRecipe = recipes[i][0]\n",
    "    \n",
    "    \n",
    "    for x in range(len(currentRecipe)):\n",
    "        if not currentRecipe[x] in ingredients:\n",
    "            break\n",
    "            \n",
    "    if dietaryInput == \"no\":\n",
    "        print(recipes[i][1])\n",
    "    else:\n",
    "        for y in range(len(recipes)):\n",
    "            if dietaryInput == recipes[y][3]:\n",
    "                print(recipes[y][1])\n",
    "    \n"
   ]
  },
  {
   "cell_type": "code",
   "execution_count": 52,
   "metadata": {},
   "outputs": [
    {
     "name": "stdout",
     "output_type": "stream",
     "text": [
      "That means you can make:\n",
      "Banana Pancakes\n",
      "Potato Tortilla\n"
     ]
    }
   ],
   "source": [
    "print(\"That means you can make:\")\n",
    "for i in range(len(recipes)):\n",
    "    \n",
    "    currentRecipe = recipes[i][0]\n",
    "    \n",
    "    for x in range(len(currentRecipe)):\n",
    "        if currentRecipe[x] not in ingredients:\n",
    "            break\n",
    "    else:\n",
    "        print(recipes[i][1])"
   ]
  },
  {
   "cell_type": "code",
   "execution_count": null,
   "metadata": {
    "collapsed": true
   },
   "outputs": [],
   "source": []
  }
 ],
 "metadata": {
  "kernelspec": {
   "display_name": "Python 3",
   "language": "python",
   "name": "python3"
  },
  "language_info": {
   "codemirror_mode": {
    "name": "ipython",
    "version": 3
   },
   "file_extension": ".py",
   "mimetype": "text/x-python",
   "name": "python",
   "nbconvert_exporter": "python",
   "pygments_lexer": "ipython3",
   "version": "3.6.8"
  }
 },
 "nbformat": 4,
 "nbformat_minor": 2
}
